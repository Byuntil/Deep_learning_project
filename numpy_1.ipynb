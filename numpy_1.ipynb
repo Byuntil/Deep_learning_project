{
  "nbformat": 4,
  "nbformat_minor": 0,
  "metadata": {
    "colab": {
      "name": "numpy_1",
      "provenance": [],
      "collapsed_sections": [],
      "authorship_tag": "ABX9TyPSALHWYIDK2/fkZG8mSDEc",
      "include_colab_link": true
    },
    "kernelspec": {
      "name": "python3",
      "display_name": "Python 3"
    },
    "language_info": {
      "name": "python"
    }
  },
  "cells": [
    {
      "cell_type": "markdown",
      "metadata": {
        "id": "view-in-github",
        "colab_type": "text"
      },
      "source": [
        "<a href=\"https://colab.research.google.com/github/Byuntil/Deep_learning_project/blob/main/numpy_1.ipynb\" target=\"_parent\"><img src=\"https://colab.research.google.com/assets/colab-badge.svg\" alt=\"Open In Colab\"/></a>"
      ]
    },
    {
      "cell_type": "markdown",
      "metadata": {
        "id": "BKpDAeSJKIAO"
      },
      "source": [
        "1.1 Numpy: dot, einsum"
      ]
    },
    {
      "cell_type": "code",
      "metadata": {
        "id": "bY8eQjPt2Bno",
        "colab": {
          "base_uri": "https://localhost:8080/"
        },
        "outputId": "4aee481a-139e-44e4-bec4-b2103d9bdf21"
      },
      "source": [
        "import numpy as np\n",
        "\n",
        "A = np.arange(6).reshape(2,3)\n",
        "print(A,\"\\n\")\n",
        "\n",
        "#역행렬\n",
        "R = np.einsum(\"ij->ji\", A)\n",
        "print(R,\"\\n\")\n",
        "\n",
        "#dot\n",
        "Z = np.dot(A,R)\n",
        "print(Z,\"\\n\")\n",
        "\n",
        "#einsum\n",
        "#모든 인덱스 값의 합\n",
        "S = np.einsum(\"ij->\",A)\n",
        "print(S,\"\\n\")\n",
        "\n",
        "#세로 인덱스값의 합(위 아래로 누른다)\n",
        "P = np.einsum(\"ij->j\",A)\n",
        "print(P,\"\\n\")\n",
        "\n",
        "#가로 인덱스값의 합(좌,우로 누른다)\n",
        "Q = np.einsum(\"ij->i\", A)\n",
        "print(Q,\"\\n\")\n",
        "\n",
        "#행렬의 연산\n",
        "v = np.array([1,2,3])\n",
        "Y = np.einsum(\"ij,j->i\",A,v)\n",
        "print(Y,\"\\n\")\n",
        "\n",
        "#dot과 einsum관계\n",
        "N = np.einsum(\"ij,kj->ik\",A,A)\n",
        "print(N,\"\\n\")\n",
        "print(np.dot(A,R), \"\\n\")"
      ],
      "execution_count": 44,
      "outputs": [
        {
          "output_type": "stream",
          "name": "stdout",
          "text": [
            "[[0 1 2]\n",
            " [3 4 5]] \n",
            "\n",
            "[[0 3]\n",
            " [1 4]\n",
            " [2 5]] \n",
            "\n",
            "[[ 5 14]\n",
            " [14 50]] \n",
            "\n",
            "15 \n",
            "\n",
            "[3 5 7] \n",
            "\n",
            "[ 3 12] \n",
            "\n",
            "[ 8 26] \n",
            "\n",
            "[[ 5 14]\n",
            " [14 50]] \n",
            "\n",
            "[[ 5 14]\n",
            " [14 50]] \n",
            "\n"
          ]
        }
      ]
    },
    {
      "cell_type": "markdown",
      "metadata": {
        "id": "GlATOhrc6OS0"
      },
      "source": [
        "1.2 Numpy: quiz풀이"
      ]
    },
    {
      "cell_type": "code",
      "metadata": {
        "colab": {
          "base_uri": "https://localhost:8080/"
        },
        "id": "v9_-QXU06N6N",
        "outputId": "26a6b8b8-020f-4ec8-aa20-724656f9a2ac"
      },
      "source": [
        "import numpy as np\n",
        "#Q.67\n",
        "a = np.arange(16)\n",
        "b= a.reshape(2,2,2,2)\n",
        "print(b)\n",
        "print(\"\\n=========\")\n",
        "S = b.sum(axis=(-1,-2))\n",
        "print(S)"
      ],
      "execution_count": 48,
      "outputs": [
        {
          "output_type": "stream",
          "name": "stdout",
          "text": [
            "[[[[ 0  1]\n",
            "   [ 2  3]]\n",
            "\n",
            "  [[ 4  5]\n",
            "   [ 6  7]]]\n",
            "\n",
            "\n",
            " [[[ 8  9]\n",
            "   [10 11]]\n",
            "\n",
            "  [[12 13]\n",
            "   [14 15]]]]\n",
            "\n",
            "=========\n",
            "[[ 6 22]\n",
            " [38 54]]\n"
          ]
        }
      ]
    },
    {
      "cell_type": "code",
      "metadata": {
        "colab": {
          "base_uri": "https://localhost:8080/"
        },
        "id": "kI8Xgqke_W7f",
        "outputId": "3050b858-6960-45e8-9a3c-ace30c65d034"
      },
      "source": [
        "import numpy as np\n",
        "#Q69\n",
        "a=np.arange(4).reshape(2,2)\n",
        "b=np.diag(np.dot(a,a))\n",
        "c=np.einsum(\"ij,ji->i\",a,a)\n",
        "print(c)\n",
        "print(b)"
      ],
      "execution_count": 54,
      "outputs": [
        {
          "output_type": "stream",
          "name": "stdout",
          "text": [
            "[ 2 11]\n",
            "[ 2 11]\n"
          ]
        }
      ]
    },
    {
      "cell_type": "code",
      "metadata": {
        "colab": {
          "base_uri": "https://localhost:8080/"
        },
        "id": "x1Rx0kVjICKZ",
        "outputId": "0e218e38-bbb0-412f-9d65-12d3ec814636"
      },
      "source": [
        "import numpy as np\n",
        "#Q72\n",
        "a = np.arange(4).reshape(2,2)\n",
        "print(a)\n",
        "a[[0,1]] = a[[1,0]]\n",
        "print(a)"
      ],
      "execution_count": 57,
      "outputs": [
        {
          "output_type": "stream",
          "name": "stdout",
          "text": [
            "[[0 1]\n",
            " [2 3]]\n",
            "[[2 3]\n",
            " [0 1]]\n"
          ]
        }
      ]
    },
    {
      "cell_type": "code",
      "metadata": {
        "colab": {
          "base_uri": "https://localhost:8080/"
        },
        "id": "d1lHRxc8J82q",
        "outputId": "dc69ac36-141f-4721-8ef2-92d769a405d5"
      },
      "source": [
        "import numpy as np\n",
        "#Q74\n",
        "d=np.array([1,2,2,3,3,3,4,4,4])\n",
        "C = np.bincount(d)\n",
        "print(C)\n",
        "A = np.repeat(np.arange(len(C)), C)\n",
        "print(A)\n",
        "print(np.bincount(A))"
      ],
      "execution_count": 67,
      "outputs": [
        {
          "output_type": "stream",
          "name": "stdout",
          "text": [
            "[0 1 2 3 3]\n",
            "[1 2 2 3 3 3 4 4 4]\n",
            "[0 1 2 3 3]\n"
          ]
        }
      ]
    },
    {
      "cell_type": "code",
      "metadata": {
        "colab": {
          "base_uri": "https://localhost:8080/"
        },
        "id": "1ptbsUaFN2VT",
        "outputId": "1a451042-9b87-40b3-8e4e-b0218250aa27"
      },
      "source": [
        "import numpy as np\n",
        "#Q83\n",
        "D = np.random.randint(0,20, 20)\n",
        "print(D)\n",
        "M = np.bincount(D)\n",
        "print(M)\n",
        "print(M.argmax())"
      ],
      "execution_count": 72,
      "outputs": [
        {
          "output_type": "stream",
          "name": "stdout",
          "text": [
            "[18  8  8 15 11  4  5  1 18  1 11 18 14  8 19 11 17 14  5 15]\n",
            "[0 2 0 0 1 2 0 0 3 0 0 3 0 0 2 2 0 1 3 1]\n",
            "8\n"
          ]
        }
      ]
    }
  ]
}